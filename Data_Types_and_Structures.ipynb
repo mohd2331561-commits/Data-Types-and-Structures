{
  "nbformat": 4,
  "nbformat_minor": 0,
  "metadata": {
    "colab": {
      "provenance": []
    },
    "kernelspec": {
      "name": "python3",
      "display_name": "Python 3"
    },
    "language_info": {
      "name": "python"
    }
  },
  "cells": [
    {
      "cell_type": "markdown",
      "source": [
        "1. What are data structures, and why are they important\n",
        "  - **Data structures** are ways to organize and store data so it can be used efficiently.\n",
        "\n",
        "**Importance:** They make data processing faster, help manage large data, and improve performance of algorithms and programs.\n",
        "\n",
        "2. Explain the difference between mutable and immutable data types with examples\n",
        "   - **Mutable data types** can be changed after creation.\n",
        "Example: `list = [1, 2, 3]` → you can add or remove elements.\n",
        "\n",
        "**Immutable data types** cannot be changed after creation.\n",
        "Example: `tuple = (1, 2, 3)` → you can’t modify elements.\n",
        "\n",
        "3. What are the main differences between lists and tuples in Python\n",
        " - List → Mutable (can change)\n",
        "* Tuple→ Immutable (cannot change)\n",
        "* List uses `[]`, **Tuple** uses `()`\n",
        "* List is slower, **Tuple** is faster\n",
        "* List allows item modification, **Tuple** does not\n",
        "\n",
        "4. Describe how dictionaries store data\n",
        "  - **Dictionaries** store data as **key–value pairs**.\n",
        "Each key is **unique** and maps to a value.\n",
        "Example:\n",
        "\n",
        "```python\n",
        "student = {\"name\": \"Rahul\", \"age\": 20}\n",
        "```\n",
        " `\"name\"` and `\"age\"` are keys, and their values are `\"Rahul\"` and `20`\n",
        "\n",
        " 5. What is a string in Python, and how is it different from a list\n",
        "   - A **string** is a sequence of characters written in quotes (`\" \"` or `' '`).\n",
        "Example: `\"hello\"`\n",
        "\n",
        "**Difference from list:**\n",
        "\n",
        "* String is **immutable**, list is **mutable**\n",
        "* String stores **characters**, list can store **any data type**\n",
        "\n",
        "6. Why might you use a set instead of a list in Python\n",
        "  - You might use a **set** instead of a list when you need:\n",
        "\n",
        "* **Unique elements only** (no duplicates)\n",
        "* **Fast membership checks** (`in` operation is faster than list)\n",
        "* **Set operations** like union, intersection, difference\n",
        "\n",
        "7. How do tuples ensure data integrity in Python\n",
        "  - **Tuples ensure data integrity** because they are **immutable** — once created, their elements **cannot be changed, added, or removed**.\n",
        "This prevents accidental modification of data.\n",
        "\n",
        "8. What is a hash table, and how does it relate to dictionaries in Python\n",
        "  - A **hash table** is a data structure that stores **key–value pairs** and uses a **hash function** to compute an index for each key for fast access.\n",
        "\n",
        "**Relation to Python dictionaries:**\n",
        "\n",
        "* Python **dictionaries are implemented using hash tables**, allowing **quick lookup, insertion, and deletion** of items.\n",
        "\n",
        "9. Can lists contain different data types in Python\n",
        "  - Yes**lists can contain different data types** in Python.\n",
        "\n",
        "Example:my_list = [1, \"hello\", 3.5, True]\n",
        "\n",
        "10. Explain why strings are immutable in Python\n",
        "   - Strings are **immutable** in Python to **ensure data safety, consistency, and efficient memory usage**.\n",
        "\n",
        "* Once created, a string **cannot be changed**, which allows Python to **reuse string objects** and avoid accidental modifications.\n",
        "\n",
        "11. What advantages do dictionaries offer over lists for certain tasks\n",
        "  - **Advantages of dictionaries over lists:**\n",
        "\n",
        "* **Fast lookup:** Access values by key in **O(1)** time vs. O(n) in lists\n",
        "* **Key–value pairing:** Store related data together\n",
        "* **Unique keys:** Prevent duplicates in keys\n",
        "* **Flexible data access:** Retrieve, update, or delete items directly by key\n",
        "\n",
        "12. Describe a scenario where using a tuple would be preferable over a list\n",
        "  - **Scenario:** Storing **fixed data that shouldn’t change**, like coordinates or RGB values.\n",
        "\n",
        "Example:\n",
        "\n",
        "```python\n",
        "point = (10, 20)  # x, y coordinates\n",
        "colors = (255, 0, 0)  # RGB value\n",
        "```\n",
        "\n",
        "Using a tuple prevents accidental modification.\n",
        "\n",
        "13. How do sets handle duplicate values in Python\n",
        "  - **Sets automatically remove duplicates** — only **unique elements** are stored.\n",
        "\n",
        "Example:my_set = {1, 2, 2, 3}\n",
        "print(my_set)  \n",
        "\n",
        "14.  How does the “in” keyword work differently for lists and dictionaries\n",
        "   - * **Lists:** `in` checks if a **value exists** in the list.\n",
        "lst = [1, 2, 3]\n",
        "2 in lst  \n",
        "\n",
        "  * **Dictionaries:** `in` checks if a **key exists**, **not the value**.\n",
        "\n",
        "  d = {\"a\": 1, \"b\": 2}\n",
        "\"a\" in d  \n",
        "1 in d    \n",
        "\n",
        "15. Can you modify the elements of a tuple? Explain why or why not\n",
        "   - No , you **cannot modify elements of a tuple** because tuples are **immutable**.\n",
        "\n",
        "* Once created, their elements **cannot be changed, added, or removed**, which helps protect data integrity.\n",
        "\n",
        "16. What is a nested dictionary, and give an example of its use case\n",
        "   - A **nested dictionary** is a dictionary **inside another dictionary**.\n",
        "\n",
        "**Use case:** Storing structured data like student records.\n",
        "\n",
        "Example:students = {\n",
        "    \"101\": {\"name\": \"Alice\", \"age\": 20},\n",
        "    \"102\": {\"name\": \"Bob\", \"age\": 22}\n",
        "}\n",
        "\n",
        "17. Describe the time complexity of accessing elements in a dictionary\n",
        "  - **Accessing elements in a dictionary** has an average **time complexity of O(1)** — constant time — because Python dictionaries use **hash tables**.\n",
        "\n",
        "* Worst-case (rare, due to hash collisions) can be **O(n)**.\n",
        "\n",
        "18. In what situations are lists preferred over dictionaries\n",
        "  - **Lists are preferred when:**\n",
        "\n",
        "* **Order matters** (they preserve insertion order)\n",
        "* **Duplicate elements are allowed**\n",
        "* You need **indexed access** by position rather than key\n",
        "* Simple **sequential data storage** is enough, e.g., a list of numbers or names\n",
        "\n",
        "19. Why are dictionaries considered unordered, and how does that affect data retrieval\n",
        "  - Dictionaries are **unordered** because their items are stored based on **hash values of keys**, not insertion order (in Python < 3.7).\n",
        "\n",
        "**Effect on data retrieval:**\n",
        "\n",
        "* You **cannot rely on order** when iterating over items.\n",
        "* Accessing a value **by key is fast**, but order of keys is not guaranteed.\n",
        "\n",
        "20. Explain the difference between a list and a dictionary in terms of data retrieval\n",
        "  - * **List:** Retrieve elements by **index** (position).\n",
        "\n",
        "  ```python\n",
        "  lst = [10, 20, 30]\n",
        "  lst[1]  # 20\n",
        "  ```\n",
        "\n",
        "* **Dictionary:** Retrieve elements by **key** (not position).\n",
        "\n",
        "  ```python\n",
        "  d = {\"a\": 10, \"b\": 20}\n",
        "  d[\"b\"]  # 20\n",
        "  ```\n",
        "\n",
        "* **Efficiency:** Dictionary lookup is **faster (O(1))**, list lookup by value is **O(n)**.\n",
        "\n",
        "\n",
        "\n",
        "\n",
        "  \n",
        "\n",
        "\n",
        "\n",
        "\n",
        "\n",
        "\n"
      ],
      "metadata": {
        "id": "B5cB9gT-iOqS"
      }
    },
    {
      "cell_type": "code",
      "source": [
        "# Write a code to create a string with your name and print it\n",
        "name = \"Muhammed Shahid\"\n",
        "print(name)"
      ],
      "metadata": {
        "colab": {
          "base_uri": "https://localhost:8080/"
        },
        "id": "ZwPWypFjnqzu",
        "outputId": "65673457-655e-49cb-fcff-e2331ec449bf"
      },
      "execution_count": 2,
      "outputs": [
        {
          "output_type": "stream",
          "name": "stdout",
          "text": [
            "Muhammed Shahid\n"
          ]
        }
      ]
    },
    {
      "cell_type": "code",
      "source": [
        "# Write a code to find the length of the string \"Hello World\"\n",
        "s = \"Hello World\"\n",
        "print(len(s))"
      ],
      "metadata": {
        "colab": {
          "base_uri": "https://localhost:8080/"
        },
        "id": "2_OAXoGAn9Cy",
        "outputId": "c64fdb7e-9157-420d-e254-2073d14db509"
      },
      "execution_count": 4,
      "outputs": [
        {
          "output_type": "stream",
          "name": "stdout",
          "text": [
            "11\n"
          ]
        }
      ]
    },
    {
      "cell_type": "code",
      "source": [
        "# Write a code to slice the first 3 characters from the string \"Python Programming\"\n",
        "s = \"Python Programming\"\n",
        "print(s[:3])\n"
      ],
      "metadata": {
        "colab": {
          "base_uri": "https://localhost:8080/"
        },
        "id": "dfyNo3AioKud",
        "outputId": "9d421be2-0410-4639-bb04-d037486bbf34"
      },
      "execution_count": 5,
      "outputs": [
        {
          "output_type": "stream",
          "name": "stdout",
          "text": [
            "Pyt\n"
          ]
        }
      ]
    },
    {
      "cell_type": "code",
      "source": [
        "# Write a code to convert the string \"hello\" to uppercase\n",
        "s = \"hello\"\n",
        "print(s.upper())\n",
        "\n"
      ],
      "metadata": {
        "colab": {
          "base_uri": "https://localhost:8080/"
        },
        "id": "UN2trJgfoW3R",
        "outputId": "d027f2c7-acb4-4147-aa4f-3d6437e63c2c"
      },
      "execution_count": 6,
      "outputs": [
        {
          "output_type": "stream",
          "name": "stdout",
          "text": [
            "HELLO\n"
          ]
        }
      ]
    },
    {
      "cell_type": "code",
      "source": [
        "# Write a code to replace the word \"apple\" with \"orange\" in the string \"I like apple\"\n",
        "s = \"I like apple\"\n",
        "print(s.replace(\"apple\", \"orange\"))\n"
      ],
      "metadata": {
        "colab": {
          "base_uri": "https://localhost:8080/"
        },
        "id": "Zg8kO81sog6w",
        "outputId": "ecfd4961-b855-4375-cce9-91b595782936"
      },
      "execution_count": 7,
      "outputs": [
        {
          "output_type": "stream",
          "name": "stdout",
          "text": [
            "I like orange\n"
          ]
        }
      ]
    },
    {
      "cell_type": "code",
      "source": [
        "# Write a code to create a list with numbers 1 to 5 and print it\n",
        "numbers = [1, 2, 3, 4, 5]\n",
        "print(numbers)\n"
      ],
      "metadata": {
        "colab": {
          "base_uri": "https://localhost:8080/"
        },
        "id": "ykOG6trgop-i",
        "outputId": "1b376f46-a924-429c-e21a-5ccc2415d811"
      },
      "execution_count": 8,
      "outputs": [
        {
          "output_type": "stream",
          "name": "stdout",
          "text": [
            "[1, 2, 3, 4, 5]\n"
          ]
        }
      ]
    },
    {
      "cell_type": "code",
      "source": [
        "#  Write a code to append the number 10 to the list [1, 2, 3, 4]\n",
        "lst = [1, 2, 3, 4]\n",
        "lst.append(10)\n",
        "print(lst)\n",
        "\n"
      ],
      "metadata": {
        "colab": {
          "base_uri": "https://localhost:8080/"
        },
        "id": "s5faDTXHo0mx",
        "outputId": "49f8e905-7b8c-40f6-a1ca-b84d92c865b6"
      },
      "execution_count": 9,
      "outputs": [
        {
          "output_type": "stream",
          "name": "stdout",
          "text": [
            "[1, 2, 3, 4, 10]\n"
          ]
        }
      ]
    },
    {
      "cell_type": "code",
      "source": [
        "# Write a code to remove the number 3 from the list [1, 2, 3, 4, 5]\n",
        "lst = [1, 2, 3, 4, 5]\n",
        "lst.remove(3)\n",
        "print(lst)\n"
      ],
      "metadata": {
        "colab": {
          "base_uri": "https://localhost:8080/"
        },
        "id": "s4sjP9wipC12",
        "outputId": "06ce5763-4707-4fae-ca56-82828f1c80db"
      },
      "execution_count": 10,
      "outputs": [
        {
          "output_type": "stream",
          "name": "stdout",
          "text": [
            "[1, 2, 4, 5]\n"
          ]
        }
      ]
    },
    {
      "cell_type": "code",
      "source": [
        "# Write a code to access the second element in the list ['a', 'b', 'c', 'd']\n",
        "lst = ['a', 'b', 'c', 'd']\n",
        "print(lst[1])\n"
      ],
      "metadata": {
        "colab": {
          "base_uri": "https://localhost:8080/"
        },
        "id": "xletG2mUpKRQ",
        "outputId": "5b4c7535-8c6f-4d10-897f-1267d10d6b57"
      },
      "execution_count": 11,
      "outputs": [
        {
          "output_type": "stream",
          "name": "stdout",
          "text": [
            "b\n"
          ]
        }
      ]
    },
    {
      "cell_type": "code",
      "source": [
        "# Write a code to reverse the list [10, 20, 30, 40, 50]\n",
        "lst = [10, 20, 30, 40, 50]\n",
        "lst.reverse()\n",
        "print(lst)"
      ],
      "metadata": {
        "colab": {
          "base_uri": "https://localhost:8080/"
        },
        "id": "-OeawdzKpWcI",
        "outputId": "8da17ec7-1e4e-4182-c90c-3f775fb39f12"
      },
      "execution_count": 12,
      "outputs": [
        {
          "output_type": "stream",
          "name": "stdout",
          "text": [
            "[50, 40, 30, 20, 10]\n"
          ]
        }
      ]
    },
    {
      "cell_type": "code",
      "source": [
        "# Write a code to create a tuple with the elements 100, 200, 300 and print it.\n",
        "t = (100, 200, 300)\n",
        "print(t)\n",
        "\n"
      ],
      "metadata": {
        "colab": {
          "base_uri": "https://localhost:8080/"
        },
        "id": "nSAQ0EanpeG9",
        "outputId": "a8744f14-6e87-4efb-b828-15cc655547ae"
      },
      "execution_count": 13,
      "outputs": [
        {
          "output_type": "stream",
          "name": "stdout",
          "text": [
            "(100, 200, 300)\n"
          ]
        }
      ]
    },
    {
      "cell_type": "code",
      "source": [
        "# Write a code to access the second-to-last element of the tuple ('red', 'green', 'blue', 'yellow').\n",
        "t = ('red', 'green', 'blue', 'yellow')\n",
        "print(t[-2])\n"
      ],
      "metadata": {
        "colab": {
          "base_uri": "https://localhost:8080/"
        },
        "id": "YwS5IFQUpjXf",
        "outputId": "853ec693-ae15-4f50-a370-95caf49d8451"
      },
      "execution_count": 14,
      "outputs": [
        {
          "output_type": "stream",
          "name": "stdout",
          "text": [
            "blue\n"
          ]
        }
      ]
    },
    {
      "cell_type": "code",
      "source": [
        "#  Write a code to find the minimum number in the tuple (10, 20, 5, 15).\n",
        "t = (10, 20, 5, 15)\n",
        "print(min(t))"
      ],
      "metadata": {
        "colab": {
          "base_uri": "https://localhost:8080/"
        },
        "id": "oLj1bOL6pjeS",
        "outputId": "265c6423-263e-462d-fb07-04cc13e566a0"
      },
      "execution_count": 15,
      "outputs": [
        {
          "output_type": "stream",
          "name": "stdout",
          "text": [
            "5\n"
          ]
        }
      ]
    },
    {
      "cell_type": "code",
      "source": [
        "#  Write a code to find the index of the element \"cat\" in the tuple ('dog', 'cat', 'rabbit').\n",
        "t = ('dog', 'cat', 'rabbit')\n",
        "print(t.index('cat'))"
      ],
      "metadata": {
        "colab": {
          "base_uri": "https://localhost:8080/"
        },
        "id": "fpURbv6mpjiH",
        "outputId": "d75457f0-d3a0-4b42-f747-49b12785a95b"
      },
      "execution_count": 16,
      "outputs": [
        {
          "output_type": "stream",
          "name": "stdout",
          "text": [
            "1\n"
          ]
        }
      ]
    },
    {
      "cell_type": "code",
      "source": [
        "#  Write a code to create a tuple containing three different fruits and check if \"kiwi\" is in it\n",
        "fruits = (\"apple\", \"banana\", \"mango\")\n",
        "print(\"kiwi\" in fruits)\n"
      ],
      "metadata": {
        "colab": {
          "base_uri": "https://localhost:8080/"
        },
        "id": "wpHoLpIJpjlj",
        "outputId": "8943c4d1-388a-41ec-c9aa-4631197a70ef"
      },
      "execution_count": 17,
      "outputs": [
        {
          "output_type": "stream",
          "name": "stdout",
          "text": [
            "False\n"
          ]
        }
      ]
    },
    {
      "cell_type": "code",
      "source": [
        "# Write a code to create a set with the elements 'a', 'b', 'c' and print it.\n",
        "s = {'a', 'b', 'c'}\n",
        "print(s)\n"
      ],
      "metadata": {
        "colab": {
          "base_uri": "https://localhost:8080/"
        },
        "id": "yL9LIOFLpjoa",
        "outputId": "cbc3596f-6f71-4f81-bac8-fb357d6352a4"
      },
      "execution_count": 18,
      "outputs": [
        {
          "output_type": "stream",
          "name": "stdout",
          "text": [
            "{'c', 'b', 'a'}\n"
          ]
        }
      ]
    },
    {
      "cell_type": "code",
      "source": [
        "#  Write a code to clear all elements from the set {1, 2, 3, 4, 5}.\n",
        "s = {1, 2, 3, 4, 5}\n",
        "s.clear()\n",
        "print(s)\n"
      ],
      "metadata": {
        "colab": {
          "base_uri": "https://localhost:8080/"
        },
        "id": "15j1278tpjrr",
        "outputId": "39dca995-74dd-49c5-d049-02d3cdefe901"
      },
      "execution_count": 19,
      "outputs": [
        {
          "output_type": "stream",
          "name": "stdout",
          "text": [
            "set()\n"
          ]
        }
      ]
    },
    {
      "cell_type": "code",
      "source": [
        "# Write a code to remove the element 4 from the set {1, 2, 3, 4}.\n",
        "s = {1, 2, 3, 4}\n",
        "s.remove(4)\n",
        "print(s)"
      ],
      "metadata": {
        "colab": {
          "base_uri": "https://localhost:8080/"
        },
        "id": "TCtaZGTJpjuz",
        "outputId": "9dfa0e62-77a3-4671-f1db-cf0b774f2c0a"
      },
      "execution_count": 21,
      "outputs": [
        {
          "output_type": "stream",
          "name": "stdout",
          "text": [
            "{1, 2, 3}\n"
          ]
        }
      ]
    },
    {
      "cell_type": "code",
      "source": [
        "#  Write a code to find the union of two sets {1, 2, 3} and {3, 4, 5}.\n",
        "s1 = {1, 2, 3}\n",
        "s2 = {3, 4, 5}\n",
        "print(s1.union(s2))\n"
      ],
      "metadata": {
        "colab": {
          "base_uri": "https://localhost:8080/"
        },
        "id": "Lv9I-iqFpjye",
        "outputId": "1d33ff36-854b-48b6-faae-9abb592d0855"
      },
      "execution_count": 22,
      "outputs": [
        {
          "output_type": "stream",
          "name": "stdout",
          "text": [
            "{1, 2, 3, 4, 5}\n"
          ]
        }
      ]
    },
    {
      "cell_type": "code",
      "source": [
        "# Write a code to find the intersection of two sets {1, 2, 3} and {2, 3, 4}.\n",
        "s1 = {1, 2, 3}\n",
        "s2 = {2, 3, 4}\n",
        "print(s1.intersection(s2))\n"
      ],
      "metadata": {
        "colab": {
          "base_uri": "https://localhost:8080/"
        },
        "id": "UzaBYNngpj1N",
        "outputId": "26cfd165-262d-4aa6-eae8-5ec192e8933b"
      },
      "execution_count": 23,
      "outputs": [
        {
          "output_type": "stream",
          "name": "stdout",
          "text": [
            "{2, 3}\n"
          ]
        }
      ]
    },
    {
      "cell_type": "code",
      "source": [
        "#  Write a code to create a dictionary with the keys \"name\", \"age\", and \"city\", and print it\n",
        "d = {\"name\": \"Muhammed Shahid\", \"age\": 20, \"city\": \"Hyderabad\"}\n",
        "print(d)\n"
      ],
      "metadata": {
        "colab": {
          "base_uri": "https://localhost:8080/"
        },
        "id": "KN4wGdQopj4R",
        "outputId": "c606fce3-1ea9-4024-8d27-3358b903ef1d"
      },
      "execution_count": 24,
      "outputs": [
        {
          "output_type": "stream",
          "name": "stdout",
          "text": [
            "{'name': 'Muhammed Shahid', 'age': 20, 'city': 'Hyderabad'}\n"
          ]
        }
      ]
    },
    {
      "cell_type": "code",
      "source": [
        "# Write a code to add a new key-value pair \"country\": \"USA\" to the dictionary {'name': 'John', 'age': 25}\n",
        "d = {'name': 'John', 'age': 25}\n",
        "d['country'] = 'USA'\n",
        "print(d)\n"
      ],
      "metadata": {
        "colab": {
          "base_uri": "https://localhost:8080/"
        },
        "id": "5Z7G2RTTpj6-",
        "outputId": "7746fbee-38fb-460e-eead-335faf7b2d09"
      },
      "execution_count": 25,
      "outputs": [
        {
          "output_type": "stream",
          "name": "stdout",
          "text": [
            "{'name': 'John', 'age': 25, 'country': 'USA'}\n"
          ]
        }
      ]
    },
    {
      "cell_type": "code",
      "source": [
        "#  Write a code to access the value associated with the key \"name\" in the dictionary {'name': 'Alice', 'age': 30}.\n",
        "d = {'name': 'Alice', 'age': 30}\n",
        "print(d['name'])\n"
      ],
      "metadata": {
        "colab": {
          "base_uri": "https://localhost:8080/"
        },
        "id": "EYJXwLrXpj-c",
        "outputId": "df5c2042-4724-4de2-f67a-6b4aea37c059"
      },
      "execution_count": 26,
      "outputs": [
        {
          "output_type": "stream",
          "name": "stdout",
          "text": [
            "Alice\n"
          ]
        }
      ]
    },
    {
      "cell_type": "code",
      "source": [
        "#  Write a code to remove the key \"age\" from the dictionary {'name': 'Bob', 'age': 22, 'city': 'New York'}.\n",
        "d = {'name': 'Bob', 'age': 22, 'city': 'New York'}\n",
        "del d['age']\n",
        "print(d)\n"
      ],
      "metadata": {
        "colab": {
          "base_uri": "https://localhost:8080/"
        },
        "id": "oenFGsEQqyPD",
        "outputId": "04dcf7b8-9470-4b9f-f927-45948eff87e4"
      },
      "execution_count": 27,
      "outputs": [
        {
          "output_type": "stream",
          "name": "stdout",
          "text": [
            "{'name': 'Bob', 'city': 'New York'}\n"
          ]
        }
      ]
    },
    {
      "cell_type": "code",
      "source": [
        "# Write a code to check if the key \"city\" exists in the dictionary {'name': 'Alice', 'city': 'Paris'}.\n",
        "d = {'name': 'Alice', 'city': 'Paris'}\n",
        "print('city' in d)\n"
      ],
      "metadata": {
        "colab": {
          "base_uri": "https://localhost:8080/"
        },
        "id": "ZuiAdOUUqyXb",
        "outputId": "ee6787e1-971f-4c34-ada7-bb9100819e47"
      },
      "execution_count": 28,
      "outputs": [
        {
          "output_type": "stream",
          "name": "stdout",
          "text": [
            "True\n"
          ]
        }
      ]
    },
    {
      "cell_type": "code",
      "source": [
        "#  Write a code to create a list, a tuple, and a dictionary, and print them all.\n",
        "lst = [1, 2, 3]\n",
        "tup = (4, 5, 6)\n",
        "d = {'a': 7, 'b': 8}\n",
        "print(lst, tup, d)\n"
      ],
      "metadata": {
        "colab": {
          "base_uri": "https://localhost:8080/"
        },
        "id": "ZJ04aqKcqyeP",
        "outputId": "3f37b4e5-3b20-47b7-aa27-e65e07c85f95"
      },
      "execution_count": 29,
      "outputs": [
        {
          "output_type": "stream",
          "name": "stdout",
          "text": [
            "[1, 2, 3] (4, 5, 6) {'a': 7, 'b': 8}\n"
          ]
        }
      ]
    },
    {
      "cell_type": "code",
      "source": [
        "# Write a code to create a list of 5 random numbers between 1 and 100, sort it in ascending order, and print the result.(replaced)\n",
        "import random\n",
        "lst = [random.randint(1, 100) for _ in range(5)]\n",
        "lst.sort()\n",
        "print(lst)\n",
        "\n"
      ],
      "metadata": {
        "colab": {
          "base_uri": "https://localhost:8080/"
        },
        "id": "Zh7LRjdsqyks",
        "outputId": "9df25a40-9406-47d1-bfda-817260e72603"
      },
      "execution_count": 30,
      "outputs": [
        {
          "output_type": "stream",
          "name": "stdout",
          "text": [
            "[4, 7, 33, 42, 89]\n"
          ]
        }
      ]
    },
    {
      "cell_type": "code",
      "source": [
        "#  Write a code to create a list with strings and print the element at the third index.\n",
        "lst = [\"apple\", \"banana\", \"cherry\", \"date\", \"fig\"]\n",
        "print(lst[3])\n"
      ],
      "metadata": {
        "colab": {
          "base_uri": "https://localhost:8080/"
        },
        "id": "buMBYDL9qyrZ",
        "outputId": "2038622c-8635-42f7-d7b1-9911d4826e8f"
      },
      "execution_count": 31,
      "outputs": [
        {
          "output_type": "stream",
          "name": "stdout",
          "text": [
            "date\n"
          ]
        }
      ]
    },
    {
      "cell_type": "code",
      "source": [
        "#  Write a code to combine two dictionaries into one and print the result.\n",
        "d1 = {'a': 1, 'b': 2}\n",
        "d2 = {'c': 3, 'd': 4}\n",
        "d3 = {**d1, **d2}\n",
        "print(d3)\n"
      ],
      "metadata": {
        "colab": {
          "base_uri": "https://localhost:8080/"
        },
        "id": "AjIESYIxqyw_",
        "outputId": "66dff06c-6136-4c17-8c64-9ed624541ea4"
      },
      "execution_count": 32,
      "outputs": [
        {
          "output_type": "stream",
          "name": "stdout",
          "text": [
            "{'a': 1, 'b': 2, 'c': 3, 'd': 4}\n"
          ]
        }
      ]
    },
    {
      "cell_type": "code",
      "source": [
        "# Write a code to convert a list of strings into a set.\n",
        "lst = [\"apple\", \"banana\", \"apple\", \"cherry\"]\n",
        "s = set(lst)\n",
        "print(s)\n"
      ],
      "metadata": {
        "colab": {
          "base_uri": "https://localhost:8080/"
        },
        "id": "7G-S394Cqy2X",
        "outputId": "226a9f47-81df-4182-af2d-0fd912781f35"
      },
      "execution_count": 33,
      "outputs": [
        {
          "output_type": "stream",
          "name": "stdout",
          "text": [
            "{'apple', 'cherry', 'banana'}\n"
          ]
        }
      ]
    }
  ]
}